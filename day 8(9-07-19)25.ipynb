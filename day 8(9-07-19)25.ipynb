{
 "cells": [
  {
   "cell_type": "markdown",
   "metadata": {},
   "source": [
    "### day objectives\n",
    "- python data structures\n",
    "   >lists\n",
    "   >tuples\n",
    "   >dictionaries\n",
    "- basic program sets on data structures\n",
    "- advanced problem set\n",
    "- contact application(dictionary object)\n",
    "\n",
    "**Data structures:\n",
    "- to store,search and sort the data "
   ]
  },
  {
   "cell_type": "markdown",
   "metadata": {},
   "source": [
    "### python data structures\n",
    "#### lists\n",
    "- it's one of common data structures supports by python, the list items are seperated by comma operator and enclosed in square brackets\n",
    "  - example:\n",
    "     list1=[1,6,2,18,9]\n",
    "     list2=[\"Gitam\",10,12,15,5\"Hyderabad\"]\n",
    "    "
   ]
  },
  {
   "cell_type": "code",
   "execution_count": 2,
   "metadata": {},
   "outputs": [
    {
     "name": "stdout",
     "output_type": "stream",
     "text": [
      "[1, 8, 16, 9, 2]\n",
      "1\n",
      "8\n",
      "2\n",
      "9\n",
      "[8, 16, 9, 2]\n",
      "[8, 16, 9]\n"
     ]
    }
   ],
   "source": [
    "lst=[1,8,16,9,2]\n",
    "print(lst)# access the entire list\n",
    "print(lst[0])#access the first item of a list\n",
    "print(lst[1])# access the second item of the list\n",
    "print(lst[-1])#access the last item list\n",
    "print(lst[-2])\n",
    "print(lst[1:])\n",
    "print(lst[1:4])"
   ]
  },
  {
   "cell_type": "code",
   "execution_count": 3,
   "metadata": {},
   "outputs": [
    {
     "name": "stdout",
     "output_type": "stream",
     "text": [
      "['Gitam', 'Python', 1989, 2002]\n",
      "['Gitam', 'Python', 2019, 2002]\n"
     ]
    }
   ],
   "source": [
    "li=[\"Gitam\",\"Python\",1989,2002]\n",
    "print(li)\n",
    "li[2]=2019\n",
    "print(li)"
   ]
  },
  {
   "cell_type": "code",
   "execution_count": 4,
   "metadata": {},
   "outputs": [
    {
     "name": "stdout",
     "output_type": "stream",
     "text": [
      "['Gitam', 'Python', 2019, 2002]\n",
      "['Gitam', 'Python', 2002]\n"
     ]
    }
   ],
   "source": [
    "# delete the specific item in the list\n",
    "print(li)\n",
    "del li[2]\n",
    "print(li)"
   ]
  },
  {
   "cell_type": "code",
   "execution_count": 8,
   "metadata": {},
   "outputs": [
    {
     "name": "stdout",
     "output_type": "stream",
     "text": [
      "5\n",
      "[1, 9, 6, 18, 2, 1, 9, 6, 18, 2]\n",
      "5\n",
      "True\n",
      "False\n",
      "1 9 6 18 2 "
     ]
    }
   ],
   "source": [
    "# basic list operations\n",
    "a=[1,9,6,18,2]\n",
    "print(len(a))#len of the list\n",
    "print(a*2)#repetation\n",
    "print(len(a))\n",
    "print(9 in a)# list item is present or not\n",
    "print(15 in a)\n",
    "# acssess the list items using iteration\n",
    "for x in range(len(a)):\n",
    "    print(a[x],end=' ')"
   ]
  },
  {
   "cell_type": "code",
   "execution_count": 12,
   "metadata": {},
   "outputs": [
    {
     "name": "stdout",
     "output_type": "stream",
     "text": [
      "1\n",
      "18\n",
      "36\n",
      "7\n",
      "13.5\n"
     ]
    }
   ],
   "source": [
    "# function of the list\n",
    "a\n",
    "print(min(a))\n",
    "print(max(a))\n",
    "print(sum(a))\n",
    "print(sum(a)//len(a))# average of list elements\n",
    "print(sum(a[1::2])/len(a[1::2]))# average of al"
   ]
  },
  {
   "cell_type": "code",
   "execution_count": 30,
   "metadata": {},
   "outputs": [
    {
     "data": {
      "text/plain": [
       "[45,\n",
       " 23,\n",
       " 56,\n",
       " 56,\n",
       " 56,\n",
       " 56,\n",
       " 56,\n",
       " 56,\n",
       " 56,\n",
       " 45,\n",
       " 45,\n",
       " 45,\n",
       " 45,\n",
       " 24,\n",
       " 24,\n",
       " 24,\n",
       " 24,\n",
       " 24,\n",
       " 24,\n",
       " 24,\n",
       " 24,\n",
       " 24,\n",
       " 24,\n",
       " 24,\n",
       " 24,\n",
       " 23,\n",
       " 23,\n",
       " 23,\n",
       " 23,\n",
       " 1]"
      ]
     },
     "execution_count": 30,
     "metadata": {},
     "output_type": "execute_result"
    }
   ],
   "source": [
    "a\n",
    "a.append(24)#adding a new element at the end \n",
    "a\n",
    "a.insert(2,56)# adding an element at particular index\n",
    "a\n",
    "a.count(18)#return value how many times repeated\n",
    "a.index(56)# returns the index of the object\n",
    "a.sort()# sorts the list in ascending order\n",
    "a\n",
    "a.pop()# remove the last element fromthe list\n",
    "a.pop(1)#removing fromparticular index\n",
    "a1=[123,23,45]\n",
    "a.extend(a1)#merge the list\n",
    "a.reverse()# reversing a list\n",
    "a.remove(123)# remove the element from the list\n",
    "a"
   ]
  },
  {
   "cell_type": "code",
   "execution_count": 27,
   "metadata": {},
   "outputs": [
    {
     "name": "stdout",
     "output_type": "stream",
     "text": [
      "[3, 2]\n"
     ]
    }
   ],
   "source": [
    "li=[1,9,8,2,6,3]\n",
    "print(li[-1:2:-2])"
   ]
  },
  {
   "cell_type": "code",
   "execution_count": 32,
   "metadata": {},
   "outputs": [
    {
     "data": {
      "text/plain": [
       "6"
      ]
     },
     "execution_count": 32,
     "metadata": {},
     "output_type": "execute_result"
    }
   ],
   "source": [
    "# functionm to find the second large item fromthe list\n",
    "# input: [1,19,6,2,8,18,3]\n",
    "#output :18\n",
    "def  secondlarge(li):\n",
    "    li.sort()\n",
    "    return li[-2]\n",
    "li =[1,19,6,2,8,18,3]\n",
    "secondlarge(li)\n",
    "def genericlarge(li,n):\n",
    "    li.sort()\n",
    "    return li[-n]\n",
    "li=[1,19,6,2,8,18,3]\n",
    "genericlarge(li,4)"
   ]
  },
  {
   "cell_type": "code",
   "execution_count": 33,
   "metadata": {},
   "outputs": [
    {
     "data": {
      "text/plain": [
       "6"
      ]
     },
     "execution_count": 33,
     "metadata": {},
     "output_type": "execute_result"
    }
   ],
   "source": [
    "# function to find the least item from the list\n",
    "# input:li=[1,9,8,2,6,3]\n",
    "# output: 2\n",
    "def secondleast(li):\n",
    "    li.sort()\n",
    "    return li[1]\n",
    "def genericleast(li,n):\n",
    "    li.sort()\n",
    "    return li[n-1]\n",
    "li=[1,19,6,2,8,18,3]\n",
    "genericleast(li,4)"
   ]
  },
  {
   "cell_type": "markdown",
   "metadata": {},
   "source": [
    "### searching algorithms\n",
    "- linear search\n",
    "- binary search\n"
   ]
  },
  {
   "cell_type": "markdown",
   "metadata": {},
   "source": [
    "### linear search\n",
    "- linear search algorithm can be applied on duplicate and unique list \n",
    "     - unique list: the all item of the list is appered only once\n",
    "     - duplicate list: the items of the list can be appered more than once \n",
    "- linear search algorithm can be applied  on sorted list or unsorted list"
   ]
  },
  {
   "cell_type": "code",
   "execution_count": 34,
   "metadata": {},
   "outputs": [
    {
     "data": {
      "text/plain": [
       "-1"
      ]
     },
     "execution_count": 34,
     "metadata": {},
     "output_type": "execute_result"
    }
   ],
   "source": [
    "#function to search the data in a list\n",
    "#search is found then return the index if not return-1\n",
    "def linearsearch(li,tarItem):\n",
    "    for x in range(len(li)):\n",
    "        if li[x]== tarItem:\n",
    "            return x\n",
    "    return -1\n",
    "li=[1,19,6,2,8,18,3]\n",
    "linearsearch(li,225)"
   ]
  },
  {
   "cell_type": "code",
   "execution_count": 35,
   "metadata": {},
   "outputs": [
    {
     "name": "stdout",
     "output_type": "stream",
     "text": [
      "1 4 8 "
     ]
    }
   ],
   "source": [
    "# function\n",
    "# input: [1 5 9 6 5 15 1 2 5] # duplicates\n",
    "# output: 1 4 8\n",
    "def linearsearch(li,taritem):\n",
    "    for x in range(len(li)):\n",
    "        if li[x]==taritem:\n",
    "            print(x,end=\" \")\n",
    "    return\n",
    "li=[1,5,9,6,5,15,1,2,5]\n",
    "linearsearch(li,5)"
   ]
  },
  {
   "cell_type": "code",
   "execution_count": 37,
   "metadata": {},
   "outputs": [
    {
     "name": "stdout",
     "output_type": "stream",
     "text": [
      "!! \n",
      "!!!!! \n",
      "!!!!!!!!! \n"
     ]
    }
   ],
   "source": [
    "#function\n",
    "#input: list\n",
    "#output: seq of charecters\n",
    "#test case\n",
    "# [1,5,9,6,5,15,1,2,5],[tar=5]---!! -- !!!! ---\n",
    "def linearsearch(li,taritem):\n",
    "    for x in range(len(li)):\n",
    "        if li[x]==taritem:\n",
    "            for k in range(x+1):\n",
    "                print(end=\"!\")\n",
    "            print(\" \")\n",
    "    return\n",
    "li=[1,5,9,6,5,15,1,2,5]\n",
    "linearsearch(li,5)"
   ]
  },
  {
   "cell_type": "code",
   "execution_count": 39,
   "metadata": {},
   "outputs": [
    {
     "data": {
      "text/plain": [
       "60"
      ]
     },
     "execution_count": 39,
     "metadata": {},
     "output_type": "execute_result"
    }
   ],
   "source": [
    "#function \n",
    "#input: list\n",
    "# output:formatted\n",
    "#test case\n",
    "#[12,2,45,9,18,15,36]---60\n",
    "# alist item which is perfectly multiple of 3 and 5\n",
    "def mul(li):\n",
    "    sum=0\n",
    "    for x in range(len(li)):\n",
    "        if li[x]%3==0 and li[x]%5==0:\n",
    "            sum+=li[x]\n",
    "    return sum\n",
    "li=[12,2,45,9,18,15,36]\n",
    "mul(li)"
   ]
  },
  {
   "cell_type": "code",
   "execution_count": 40,
   "metadata": {},
   "outputs": [
    {
     "name": "stdout",
     "output_type": "stream",
     "text": [
      "1 3 8 15 5 "
     ]
    }
   ],
   "source": [
    " # function\n",
    "# input: list\n",
    "# output: formated output\n",
    "# testcase:\n",
    "# [1,2,3,4,5]--[1,3,8,15,5]\n",
    "#[6,5,2,8,2] --[6,12,40,4,2]\n",
    "def funct(li):\n",
    "    for x in range(len(li)):\n",
    "        if x==0 or x==len(li)-1:\n",
    "            print(li[x],end=\" \")\n",
    "        else:\n",
    "            print(li[x-1]*li[x+1],end=\" \")\n",
    "    return\n",
    "li=[1,2,3,4,5]\n",
    "funct(li)"
   ]
  },
  {
   "cell_type": "code",
   "execution_count": 1,
   "metadata": {},
   "outputs": [
    {
     "name": "stdout",
     "output_type": "stream",
     "text": [
      "1 9 19 22 "
     ]
    }
   ],
   "source": [
    "#function\n",
    "#input : list\n",
    "#output: formated output\n",
    "# test case\n",
    "#[1,6,9,4,16,19,22]----1 9 19 22\n",
    "def even(li):\n",
    "    for x in range(len(li)):\n",
    "        if x==0 or x==len(li)-1:\n",
    "            print(li[x],end=\" \")\n",
    "        elif li[x-1]%2==0 and li[x+1]%2==0:\n",
    "            print(li[x],end=\" \")\n",
    "    return\n",
    "li=[1,6,9,4,16,19,22]\n",
    "even(li)"
   ]
  },
  {
   "cell_type": "markdown",
   "metadata": {},
   "source": [
    "## number to list\n",
    "- input as a number\n",
    "- expanded output will be list"
   ]
  },
  {
   "cell_type": "code",
   "execution_count": 2,
   "metadata": {},
   "outputs": [
    {
     "data": {
      "text/plain": [
       "[1, 4, 5, 6, 9]"
      ]
     },
     "execution_count": 2,
     "metadata": {},
     "output_type": "execute_result"
    }
   ],
   "source": [
    "# function for conversion - number to list\n",
    "# input-- number\n",
    "# output--list\n",
    "# testcases:-\n",
    "#14569 --[1,4,5,6,9]\n",
    "#1990 --[1,9,9,0]\n",
    "\n",
    "def number(n):\n",
    "    li=[]\n",
    "    while n!=0:\n",
    "        r=n%10\n",
    "        li.append(r)\n",
    "        n=n//10\n",
    "    li.reverse()\n",
    "    return li\n",
    "number(14569)"
   ]
  },
  {
   "cell_type": "code",
   "execution_count": 4,
   "metadata": {},
   "outputs": [
    {
     "data": {
      "text/plain": [
       "2"
      ]
     },
     "execution_count": 4,
     "metadata": {},
     "output_type": "execute_result"
    }
   ],
   "source": [
    "#function to count the occurance of a character in a string\n",
    "# \"python programming\",p->2\n",
    "# \"python programming\",m->2\n",
    "def countcharoccurance(s,c):\n",
    "    cnt=0\n",
    "    for ch in s:\n",
    "        if ch==c:\n",
    "            cnt+=1\n",
    "    return cnt\n",
    "countcharoccurance(\"python programming\",'m')"
   ]
  },
  {
   "cell_type": "markdown",
   "metadata": {},
   "source": [
    "### string to list conversions\n",
    "> input will be string\n",
    "> expected output willbe list"
   ]
  },
  {
   "cell_type": "code",
   "execution_count": 9,
   "metadata": {},
   "outputs": [
    {
     "data": {
      "text/plain": [
       "[1, 2, 3, 4, 5, 6]"
      ]
     },
     "execution_count": 9,
     "metadata": {},
     "output_type": "execute_result"
    }
   ],
   "source": [
    "# function to convert string to list\n",
    "# test care\n",
    "# \" 1 2 3 4 5 6\"--[1,2,3,4,5,6]\n",
    "def string(s):\n",
    "    li=s.split()\n",
    "    numberslist=[]\n",
    "    for i in li:\n",
    "        numberslist.append(int(i))\n",
    "    return numberslist\n",
    "s=\"1 2 3 4 5 6\"\n",
    "string(s)"
   ]
  },
  {
   "cell_type": "markdown",
   "metadata": {},
   "source": [
    "### sorting algorithm\n",
    "- bubble sort\n",
    "- selection sort\n",
    "- insertion sort"
   ]
  },
  {
   "cell_type": "markdown",
   "metadata": {},
   "source": [
    "### bubble sort:\n",
    "- this algorithm compares the adj elements,if the first element is greater\n",
    "- than second element than its requried to swap the elements"
   ]
  },
  {
   "cell_type": "code",
   "execution_count": 10,
   "metadata": {},
   "outputs": [
    {
     "data": {
      "text/plain": [
       "[1, 3, 6, 18, 19, 25]"
      ]
     },
     "execution_count": 10,
     "metadata": {},
     "output_type": "execute_result"
    }
   ],
   "source": [
    "# function  to represent the bubble sort\n",
    "def bubble(li):\n",
    "    for i in range(len(li)-1):\n",
    "        for j in range(len(li)-1):\n",
    "            if li[j]>li[j+1]:\n",
    "                li[j],li[j+1]=li[j+1],li[j]\n",
    "    return li\n",
    "li=[19,1,25,6,18,3]\n",
    "bubble(li)"
   ]
  },
  {
   "cell_type": "code",
   "execution_count": null,
   "metadata": {},
   "outputs": [],
   "source": []
  }
 ],
 "metadata": {
  "kernelspec": {
   "display_name": "Python 3",
   "language": "python",
   "name": "python3"
  },
  "language_info": {
   "codemirror_mode": {
    "name": "ipython",
    "version": 3
   },
   "file_extension": ".py",
   "mimetype": "text/x-python",
   "name": "python",
   "nbconvert_exporter": "python",
   "pygments_lexer": "ipython3",
   "version": "3.7.3"
  }
 },
 "nbformat": 4,
 "nbformat_minor": 2
}
